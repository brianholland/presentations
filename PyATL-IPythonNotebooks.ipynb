{
 "metadata": {
  "celltoolbar": "Slideshow",
  "name": "",
  "signature": "sha256:1935c0a8e5f14aa3c02b2ca706191382d6035cb4da4ba3c102c255ebb19b3b81"
 },
 "nbformat": 3,
 "nbformat_minor": 0,
 "worksheets": [
  {
   "cells": [
    {
     "cell_type": "code",
     "collapsed": false,
     "input": [
      "!sudo reboot"
     ],
     "language": "python",
     "metadata": {
      "internals": {
       "slide_helper": "subslide_end",
       "slide_type": "subslide"
      },
      "slide_helper": "slide_end",
      "slideshow": {
       "slide_type": "slide"
      }
     },
     "outputs": [
      {
       "output_type": "stream",
       "stream": "stdout",
       "text": [
        "[sudo] password for brian: "
       ]
      }
     ]
    },
    {
     "cell_type": "heading",
     "level": 1,
     "metadata": {
      "internals": {
       "slide_type": "subslide"
      },
      "slideshow": {
       "slide_type": "slide"
      }
     },
     "source": [
      "IPython Notebooks\n",
      "\n",
      "<br/>\n",
      "PyATL, 9 Oct 2014"
     ]
    },
    {
     "cell_type": "heading",
     "level": 5,
     "metadata": {
      "internals": {
       "slide_helper": "subslide_end"
      },
      "slide_helper": "slide_end",
      "slideshow": {
       "slide_type": "-"
      }
     },
     "source": [
      "Brian Holland"
     ]
    },
    {
     "cell_type": "heading",
     "level": 1,
     "metadata": {
      "internals": {
       "slide_type": "subslide"
      },
      "slideshow": {
       "slide_type": "slide"
      }
     },
     "source": [
      "IPython Notebook Topics"
     ]
    },
    {
     "cell_type": "markdown",
     "metadata": {
      "internals": {
       "slide_helper": "subslide_end"
      },
      "slide_helper": "slide_end",
      "slideshow": {
       "slide_type": "-"
      }
     },
     "source": [
      "Some of the main cool stuff:\n",
      "<br/>Notes as you go, with graphics, headings, markup, LaTeX, shell commands\n",
      "<br/>Convert work to other formts\n",
      "\n",
      "<ol type='A'>\n",
      "<li>Installation: preliminaries - do in a new virtualenv</li>\n",
      "<li>Headings, calculation cells, markup, raw</li>\n",
      "<li>Graphics</li>\n",
      "<li>Display: IPython.display: IFrames, html, images, etc</li>\n",
      "<li>Widgets</li>\n",
      "\n",
      "\n",
      "<li>Magics: http://ipython.org/ipython-doc/2/whatsnew/version0.13.html get a more current list?</li>\n",
      "<li>Conversion to other formats: pdf, html, slides, plain python, ....</li>\n",
      "</ol>"
     ]
    },
    {
     "cell_type": "heading",
     "level": 1,
     "metadata": {
      "internals": {
       "slide_type": "subslide"
      },
      "slideshow": {
       "slide_type": "slide"
      }
     },
     "source": [
      "Installation"
     ]
    },
    {
     "cell_type": "markdown",
     "metadata": {
      "internals": {},
      "slideshow": {
       "slide_type": "-"
      }
     },
     "source": [
      "Official IPython notebook documentation: http://ipython.org/ipython-doc/2/notebook/index.html"
     ]
    },
    {
     "cell_type": "markdown",
     "metadata": {},
     "source": [
      "<pre>\n",
      "pip install virtualenvwrapper;\n",
      "#Update environment variables in profile per \n",
      "#http://virtualenvwrapper.readthedocs.org/en/latest/install.html#shell-startup-file\n",
      "\n",
      "mkvirtualenv ipypres;\n",
      "\n",
      "workon ipypres; #To work on this virtual environment\n",
      "pip install ipython[all]; # per http://ipython.org/ipython-doc/2/install/install.html\n",
      "\n",
      "ipython notebook #to run\n",
      "\n",
      "#or to make your own options:\n",
      "\n",
      "#ipython profile create nbserverdemo\n",
      "#ipython notebook --profile=nbserverdemo; #Start the server with these options in the profile_nbserverdemo directory.\n",
      "</pre>"
     ]
    },
    {
     "cell_type": "heading",
     "level": 1,
     "metadata": {
      "internals": {
       "slide_type": "subslide"
      },
      "slideshow": {
       "slide_type": "subslide"
      }
     },
     "source": [
      "Where is the profile?"
     ]
    },
    {
     "cell_type": "markdown",
     "metadata": {
      "internals": {},
      "slideshow": {
       "slide_type": "-"
      }
     },
     "source": [
      "The profile is in the .ipython directory, probably in your home directory."
     ]
    },
    {
     "cell_type": "code",
     "collapsed": false,
     "input": [
      "ll ~/.ipython/profile_nbserverdemo"
     ],
     "language": "python",
     "metadata": {
      "internals": {
       "slide_helper": "subslide_end"
      },
      "slide_helper": "subslide_end",
      "slideshow": {
       "slide_type": "-"
      }
     },
     "outputs": [
      {
       "output_type": "stream",
       "stream": "stdout",
       "text": [
        "total 72\r\n",
        "-rw-rw-r-- 1 brian 19767 Oct  7 22:03 ipython_config.py\r\n",
        "-rw-rw-r-- 1 brian 30695 Oct  7 22:03 ipython_nbconvert_config.py\r\n",
        "drwxrwxr-x 2 brian  4096 Oct  7 22:03 \u001b[0m\u001b[01;34mlog\u001b[0m/\r\n",
        "drwx------ 2 brian  4096 Oct  7 22:03 \u001b[01;34mpid\u001b[0m/\r\n",
        "drwx------ 2 brian  4096 Oct  7 22:03 \u001b[01;34msecurity\u001b[0m/\r\n",
        "drwxrwxr-x 2 brian  4096 Oct  7 22:03 \u001b[01;34mstartup\u001b[0m/\r\n",
        "drwxrwxr-x 3 brian  4096 Oct  7 22:03 \u001b[01;34mstatic\u001b[0m/\r\n"
       ]
      }
     ],
     "prompt_number": 14
    },
    {
     "cell_type": "heading",
     "level": 1,
     "metadata": {
      "internals": {
       "slide_type": "subslide"
      },
      "slideshow": {
       "slide_type": "subslide"
      }
     },
     "source": [
      "What's in the profile?"
     ]
    },
    {
     "cell_type": "markdown",
     "metadata": {
      "internals": {},
      "slideshow": {
       "slide_type": "-"
      }
     },
     "source": [
      "The default has many (all?) options commented out."
     ]
    },
    {
     "cell_type": "code",
     "collapsed": false,
     "input": [
      "cat ~/.ipython/profile_nbserverdemo/ipython_config.py"
     ],
     "language": "python",
     "metadata": {
      "internals": {
       "slide_helper": "subslide_end"
      },
      "slide_helper": "subslide_end",
      "slideshow": {
       "slide_type": "-"
      }
     },
     "outputs": [
      {
       "output_type": "stream",
       "stream": "stdout",
       "text": [
        "# Configuration file for ipython."
       ]
      },
      {
       "output_type": "stream",
       "stream": "stdout",
       "text": [
        "\r\n",
        "\r\n",
        "c = get_config()\r\n",
        "\r\n",
        "#------------------------------------------------------------------------------\r\n",
        "# InteractiveShellApp configuration\r\n",
        "#------------------------------------------------------------------------------\r\n",
        "\r\n",
        "# A Mixin for applications that start InteractiveShell instances.\r\n",
        "# \r\n",
        "# Provides configurables for loading extensions and executing files as part of\r\n",
        "# configuring a Shell environment.\r\n",
        "# \r\n",
        "# The following methods should be called by the :meth:`initialize` method of the\r\n",
        "# subclass:\r\n",
        "# \r\n",
        "#   - :meth:`init_path`\r\n",
        "#   - :meth:`init_shell` (to be implemented by the subclass)\r\n",
        "#   - :meth:`init_gui_pylab`\r\n",
        "#   - :meth:`init_extensions`\r\n",
        "#   - :meth:`init_code`\r\n",
        "\r\n",
        "# Execute the given command string.\r\n",
        "# c.InteractiveShellApp.code_to_run = ''\r\n",
        "\r\n",
        "# Run the file referenced by the PYTHONSTARTUP environment variable at IPython\r\n",
        "# startup.\r\n",
        "# c.InteractiveShellApp.exec_PYTHONSTARTUP = True\r\n",
        "\r\n",
        "# lines of code to run at IPython startup.\r\n",
        "# c.InteractiveShellApp.exec_lines = []\r\n",
        "\r\n",
        "# Enable GUI event loop integration with any of ('glut', 'gtk', 'gtk3', 'none',\r\n",
        "# 'osx', 'pyglet', 'qt', 'qt4', 'tk', 'wx').\r\n",
        "# c.InteractiveShellApp.gui = None\r\n",
        "\r\n",
        "# Pre-load matplotlib and numpy for interactive use, selecting a particular\r\n",
        "# matplotlib backend and loop integration.\r\n",
        "# c.InteractiveShellApp.pylab = None\r\n",
        "\r\n",
        "# Configure matplotlib for interactive use with the default matplotlib backend.\r\n",
        "# c.InteractiveShellApp.matplotlib = None\r\n",
        "\r\n",
        "# If true, IPython will populate the user namespace with numpy, pylab, etc. and\r\n",
        "# an ``import *`` is done from numpy and pylab, when using pylab mode.\r\n",
        "# \r\n",
        "# When False, pylab mode should not import any names into the user namespace.\r\n",
        "# c.InteractiveShellApp.pylab_import_all = True\r\n",
        "\r\n",
        "# A list of dotted module names of IPython extensions to load.\r\n",
        "# c.InteractiveShellApp.extensions = []\r\n",
        "\r\n",
        "# Run the module as a script.\r\n",
        "# c.InteractiveShellApp.module_to_run = ''\r\n",
        "\r\n",
        "# Should variables loaded at startup (by startup files, exec_lines, etc.) be\r\n",
        "# hidden from tools like %who?\r\n",
        "# c.InteractiveShellApp.hide_initial_ns = True\r\n",
        "\r\n",
        "# dotted module name of an IPython extension to load.\r\n",
        "# c.InteractiveShellApp.extra_extension = ''\r\n",
        "\r\n",
        "# List of files to run at IPython startup.\r\n",
        "# c.InteractiveShellApp.exec_files = []\r\n",
        "\r\n",
        "# A file to be run\r\n",
        "# c.InteractiveShellApp.file_to_run = ''\r\n",
        "\r\n",
        "#------------------------------------------------------------------------------\r\n",
        "# TerminalIPythonApp configuration\r\n",
        "#------------------------------------------------------------------------------\r\n",
        "\r\n",
        "# TerminalIPythonApp will inherit config from: BaseIPythonApplication,\r\n",
        "# Application, InteractiveShellApp\r\n",
        "\r\n",
        "# Run the file referenced by the PYTHONSTARTUP environment variable at IPython\r\n",
        "# startup.\r\n",
        "# c.TerminalIPythonApp.exec_PYTHONSTARTUP = True\r\n",
        "\r\n",
        "# Pre-load matplotlib and numpy for interactive use, selecting a particular\r\n",
        "# matplotlib backend and loop integration.\r\n",
        "# c.TerminalIPythonApp.pylab = None\r\n",
        "\r\n",
        "# Create a massive crash report when IPython encounters what may be an internal\r\n",
        "# error.  The default is to append a short message to the usual traceback\r\n",
        "# c.TerminalIPythonApp.verbose_crash = False\r\n",
        "\r\n",
        "# Run the module as a script.\r\n",
        "# c.TerminalIPythonApp.module_to_run = ''\r\n",
        "\r\n",
        "# The date format used by logging formatters for %(asctime)s\r\n",
        "# c.TerminalIPythonApp.log_datefmt = '%Y-%m-%d %H:%M:%S'\r\n",
        "\r\n",
        "# Whether to overwrite existing config files when copying\r\n",
        "# c.TerminalIPythonApp.overwrite = False\r\n",
        "\r\n",
        "# Execute the given command string.\r\n",
        "# c.TerminalIPythonApp.code_to_run = ''\r\n",
        "\r\n",
        "# Set the log level by value or name.\r\n",
        "# c.TerminalIPythonApp.log_level = 30\r\n",
        "\r\n",
        "# lines of code to run at IPython startup.\r\n",
        "# c.TerminalIPythonApp.exec_lines = []\r\n",
        "\r\n",
        "# Suppress warning messages about legacy config files\r\n",
        "# c.TerminalIPythonApp.ignore_old_config = False\r\n",
        "\r\n",
        "# Path to an extra config file to load.\r\n",
        "# \r\n",
        "# If specified, load this config file in addition to any other IPython config.\r\n",
        "# c.TerminalIPythonApp.extra_config_file = u''\r\n",
        "\r\n",
        "# Should variables loaded at startup (by startup files, exec_lines, etc.) be\r\n",
        "# hidden from tools like %who?\r\n",
        "# c.TerminalIPythonApp.hide_initial_ns = True\r\n",
        "\r\n",
        "# dotted module name of an IPython extension to load.\r\n",
        "# c.TerminalIPythonApp.extra_extension = ''\r\n",
        "\r\n",
        "# A file to be run\r\n",
        "# c.TerminalIPythonApp.file_to_run = ''\r\n",
        "\r\n",
        "# The IPython profile to use.\r\n",
        "# c.TerminalIPythonApp.profile = u'default'\r\n",
        "\r\n",
        "# Configure matplotlib for interactive use with the default matplotlib backend.\r\n",
        "# c.TerminalIPythonApp.matplotlib = None\r\n",
        "\r\n",
        "# If a command or file is given via the command-line, e.g. 'ipython foo.py',\r\n",
        "# start an interactive shell after executing the file or command.\r\n",
        "# c.TerminalIPythonApp.force_interact = False\r\n",
        "\r\n",
        "# If true, IPython will populate the user namespace with numpy, pylab, etc. and\r\n",
        "# an ``import *`` is done from numpy and pylab, when using pylab mode.\r\n",
        "# \r\n",
        "# When False, pylab mode should not import any names into the user namespace.\r\n",
        "# c.TerminalIPythonApp.pylab_import_all = True\r\n",
        "\r\n",
        "# The name of the IPython directory. This directory is used for logging\r\n",
        "# configuration (through profiles), history storage, etc. The default is usually\r\n",
        "# $HOME/.ipython. This options can also be specified through the environment\r\n",
        "# variable IPYTHONDIR.\r\n",
        "# c.TerminalIPythonApp.ipython_dir = u''\r\n",
        "\r\n",
        "# Whether to display a banner upon starting IPython.\r\n",
        "# c.TerminalIPythonApp.display_banner = True\r\n",
        "\r\n",
        "# Whether to install the default config files into the profile dir. If a new\r\n",
        "# profile is being created, and IPython contains config files for that profile,\r\n",
        "# then they will be staged into the new directory.  Otherwise, default config\r\n",
        "# files will be automatically generated.\r\n",
        "# c.TerminalIPythonApp.copy_config_files = False\r\n",
        "\r\n",
        "# List of files to run at IPython startup.\r\n",
        "# c.TerminalIPythonApp.exec_files = []\r\n",
        "\r\n",
        "# Enable GUI event loop integration with any of ('glut', 'gtk', 'gtk3', 'none',\r\n",
        "# 'osx', 'pyglet', 'qt', 'qt4', 'tk', 'wx').\r\n",
        "# c.TerminalIPythonApp.gui = None\r\n",
        "\r\n",
        "# A list of dotted module names of IPython extensions to load.\r\n",
        "# c.TerminalIPythonApp.extensions = []\r\n",
        "\r\n",
        "# Start IPython quickly by skipping the loading of config files.\r\n",
        "# c.TerminalIPythonApp.quick = False\r\n",
        "\r\n",
        "# The Logging format template\r\n",
        "# c.TerminalIPythonApp.log_format = '[%(name)s]%(highlevel)s %(message)s'\r\n",
        "\r\n",
        "#------------------------------------------------------------------------------\r\n",
        "# TerminalInteractiveShell configuration\r\n",
        "#------------------------------------------------------------------------------\r\n",
        "\r\n",
        "# TerminalInteractiveShell will inherit config from: InteractiveShell\r\n",
        "\r\n",
        "# auto editing of files with syntax errors.\r\n",
        "# c.TerminalInteractiveShell.autoedit_syntax = False\r\n",
        "\r\n",
        "# Use colors for displaying information about objects. Because this information\r\n",
        "# is passed through a pager (like 'less'), and some pagers get confused with\r\n",
        "# color codes, this capability can be turned off.\r\n",
        "# c.TerminalInteractiveShell.color_info = True\r\n",
        "\r\n",
        "# A list of ast.NodeTransformer subclass instances, which will be applied to\r\n",
        "# user input before code is run.\r\n",
        "# c.TerminalInteractiveShell.ast_transformers = []\r\n",
        "\r\n",
        "# \r\n",
        "# c.TerminalInteractiveShell.history_length = 10000\r\n",
        "\r\n",
        "# Don't call post-execute functions that have failed in the past.\r\n",
        "# c.TerminalInteractiveShell.disable_failing_post_execute = False\r\n",
        "\r\n",
        "# Show rewritten input, e.g. for autocall.\r\n",
        "# c.TerminalInteractiveShell.show_rewritten_input = True\r\n",
        "\r\n",
        "# Set the color scheme (NoColor, Linux, or LightBG).\r\n",
        "# c.TerminalInteractiveShell.colors = 'Linux'\r\n",
        "\r\n",
        "# Autoindent IPython code entered interactively.\r\n",
        "# c.TerminalInteractiveShell.autoindent = True\r\n",
        "\r\n",
        "# \r\n",
        "# c.TerminalInteractiveShell.separate_in = '\\n'\r\n",
        "\r\n",
        "# Deprecated, use PromptManager.in2_template\r\n",
        "# c.TerminalInteractiveShell.prompt_in2 = '   .\\\\D.: '\r\n",
        "\r\n",
        "# \r\n",
        "# c.TerminalInteractiveShell.separate_out = ''\r\n",
        "\r\n",
        "# Deprecated, use PromptManager.in_template\r\n",
        "# c.TerminalInteractiveShell.prompt_in1 = 'In [\\\\#]: '\r\n",
        "\r\n",
        "# Make IPython automatically call any callable object even if you didn't type\r\n",
        "# explicit parentheses. For example, 'str 43' becomes 'str(43)' automatically.\r\n",
        "# The value can be '0' to disable the feature, '1' for 'smart' autocall, where\r\n",
        "# it is not applied if there are no more arguments on the line, and '2' for\r\n",
        "# 'full' autocall, where all callable objects are automatically called (even if\r\n",
        "# no arguments are present).\r\n",
        "# c.TerminalInteractiveShell.autocall = 0\r\n",
        "\r\n",
        "# Number of lines of your screen, used to control printing of very long strings.\r\n",
        "# Strings longer than this number of lines will be sent through a pager instead\r\n",
        "# of directly printed.  The default value for this is 0, which means IPython\r\n",
        "# will auto-detect your screen size every time it needs to print certain\r\n",
        "# potentially long strings (this doesn't change the behavior of the 'print'\r\n",
        "# keyword, it's only triggered internally). If for some reason this isn't\r\n",
        "# working well (it needs curses support), specify it yourself. Otherwise don't\r\n",
        "# change the default.\r\n",
        "# c.TerminalInteractiveShell.screen_length = 0\r\n",
        "\r\n",
        "# Set the editor used by IPython (default to $EDITOR/vi/notepad).\r\n",
        "# c.TerminalInteractiveShell.editor = 'vi'\r\n",
        "\r\n",
        "# Deprecated, use PromptManager.justify\r\n",
        "# c.TerminalInteractiveShell.prompts_pad_left = True\r\n",
        "\r\n",
        "# The part of the banner to be printed before the profile\r\n",
        "# c.TerminalInteractiveShell.banner1 = 'Python 2.7.3 (default, Feb 27 2014, 19:58:35) \\nType \"copyright\", \"credits\" or \"license\" for more information.\\n\\nIPython 2.2.0 -- An enhanced Interactive Python.\\n?         -> Introduction and overview of IPython\\'s features.\\n%quickref -> Quick reference.\\nhelp      -> Python\\'s own help system.\\nobject?   -> Details about \\'object\\', use \\'object??\\' for extra details.\\n'\r\n",
        "\r\n",
        "# \r\n",
        "# c.TerminalInteractiveShell.readline_parse_and_bind = ['tab: complete', '\"\\\\C-l\": clear-screen', 'set show-all-if-ambiguous on', '\"\\\\C-o\": tab-insert', '\"\\\\C-r\": reverse-search-history', '\"\\\\C-s\": forward-search-history', '\"\\\\C-p\": history-search-backward', '\"\\\\C-n\": history-search-forward', '\"\\\\e[A\": history-search-backward', '\"\\\\e[B\": history-search-forward', '\"\\\\C-k\": kill-line', '\"\\\\C-u\": unix-line-discard']\r\n",
        "\r\n",
        "# The part of the banner to be printed after the profile\r\n",
        "# c.TerminalInteractiveShell.banner2 = ''\r\n",
        "\r\n",
        "# \r\n",
        "# c.TerminalInteractiveShell.separate_out2 = ''\r\n",
        "\r\n",
        "# \r\n",
        "# c.TerminalInteractiveShell.wildcards_case_sensitive = True\r\n",
        "\r\n",
        "# \r\n",
        "# c.TerminalInteractiveShell.debug = False\r\n",
        "\r\n",
        "# Set to confirm when you try to exit IPython with an EOF (Control-D in Unix,\r\n",
        "# Control-Z/Enter in Windows). By typing 'exit' or 'quit', you can force a\r\n",
        "# direct exit without any confirmation.\r\n",
        "# c.TerminalInteractiveShell.confirm_exit = True\r\n",
        "\r\n",
        "# \r\n",
        "# c.TerminalInteractiveShell.ipython_dir = ''\r\n",
        "\r\n",
        "# \r\n",
        "# c.TerminalInteractiveShell.readline_remove_delims = '-/~'\r\n",
        "\r\n",
        "# Start logging to the default log file.\r\n",
        "# c.TerminalInteractiveShell.logstart = False\r\n",
        "\r\n",
        "# The name of the logfile to use.\r\n",
        "# c.TerminalInteractiveShell.logfile = ''\r\n",
        "\r\n",
        "# The shell program to be used for paging.\r\n",
        "# c.TerminalInteractiveShell.pager = 'less'\r\n",
        "\r\n",
        "# Enable magic commands to be called without the leading %.\r\n",
        "# c.TerminalInteractiveShell.automagic = True\r\n",
        "\r\n",
        "# Save multi-line entries as one entry in readline history\r\n",
        "# c.TerminalInteractiveShell.multiline_history = True\r\n",
        "\r\n",
        "# \r\n",
        "# c.TerminalInteractiveShell.readline_use = True\r\n",
        "\r\n",
        "# Enable deep (recursive) reloading by default. IPython can use the deep_reload\r\n",
        "# module which reloads changes in modules recursively (it replaces the reload()\r\n",
        "# function, so you don't need to change anything to use it). deep_reload()\r\n",
        "# forces a full reload of modules whose code may have changed, which the default\r\n",
        "# reload() function does not.  When deep_reload is off, IPython will use the\r\n",
        "# normal reload(), but deep_reload will still be available as dreload().\r\n",
        "# c.TerminalInteractiveShell.deep_reload = False\r\n",
        "\r\n",
        "# Start logging to the given file in append mode.\r\n",
        "# c.TerminalInteractiveShell.logappend = ''\r\n",
        "\r\n",
        "# \r\n",
        "# c.TerminalInteractiveShell.xmode = 'Context'\r\n",
        "\r\n",
        "# \r\n",
        "# c.TerminalInteractiveShell.quiet = False\r\n",
        "\r\n",
        "# Enable auto setting the terminal title.\r\n",
        "# c.TerminalInteractiveShell.term_title = False\r\n",
        "\r\n",
        "# \r\n",
        "# c.TerminalInteractiveShell.object_info_string_level = 0\r\n",
        "\r\n",
        "# Deprecated, use PromptManager.out_template\r\n",
        "# c.TerminalInteractiveShell.prompt_out = 'Out[\\\\#]: '\r\n",
        "\r\n",
        "# Set the size of the output cache.  The default is 1000, you can change it\r\n",
        "# permanently in your config file.  Setting it to 0 completely disables the\r\n",
        "# caching system, and the minimum value accepted is 20 (if you provide a value\r\n",
        "# less than 20, it is reset to 0 and a warning is issued).  This limit is\r\n",
        "# defined because otherwise you'll spend more time re-flushing a too small cache\r\n",
        "# than working\r\n",
        "# c.TerminalInteractiveShell.cache_size = 1000\r\n",
        "\r\n",
        "# 'all', 'last', 'last_expr' or 'none', specifying which nodes should be run\r\n",
        "# interactively (displaying output from expressions).\r\n",
        "# c.TerminalInteractiveShell.ast_node_interactivity = 'last_expr'\r\n",
        "\r\n",
        "# Automatically call the pdb debugger after every exception.\r\n",
        "# c.TerminalInteractiveShell.pdb = False\r\n",
        "\r\n",
        "#------------------------------------------------------------------------------\r\n",
        "# PromptManager configuration\r\n",
        "#------------------------------------------------------------------------------\r\n",
        "\r\n",
        "# This is the primary interface for producing IPython's prompts.\r\n",
        "\r\n",
        "# Output prompt. '\\#' will be transformed to the prompt number\r\n",
        "# c.PromptManager.out_template = 'Out[\\\\#]: '\r\n",
        "\r\n",
        "# Continuation prompt.\r\n",
        "# c.PromptManager.in2_template = '   .\\\\D.: '\r\n",
        "\r\n",
        "# If True (default), each prompt will be right-aligned with the preceding one.\r\n",
        "# c.PromptManager.justify = True\r\n",
        "\r\n",
        "# Input prompt.  '\\#' will be transformed to the prompt number\r\n",
        "# c.PromptManager.in_template = 'In [\\\\#]: '\r\n",
        "\r\n",
        "# \r\n",
        "# c.PromptManager.color_scheme = 'Linux'\r\n",
        "\r\n",
        "#------------------------------------------------------------------------------\r\n",
        "# HistoryManager configuration\r\n",
        "#------------------------------------------------------------------------------\r\n",
        "\r\n",
        "# A class to organize all history-related functionality in one place.\r\n",
        "\r\n",
        "# HistoryManager will inherit config from: HistoryAccessor\r\n",
        "\r\n",
        "# Should the history database include output? (default: no)\r\n",
        "# c.HistoryManager.db_log_output = False\r\n",
        "\r\n",
        "# Write to database every x commands (higher values save disk access & power).\r\n",
        "# Values of 1 or less effectively disable caching.\r\n",
        "# c.HistoryManager.db_cache_size = 0\r\n",
        "\r\n",
        "# Path to file to use for SQLite history database.\r\n",
        "# \r\n",
        "# By default, IPython will put the history database in the IPython profile\r\n",
        "# directory.  If you would rather share one history among profiles, you can set\r\n",
        "# this value in each, so that they are consistent.\r\n",
        "# \r\n",
        "# Due to an issue with fcntl, SQLite is known to misbehave on some NFS mounts.\r\n",
        "# If you see IPython hanging, try setting this to something on a local disk,\r\n",
        "# e.g::\r\n",
        "# \r\n",
        "#     ipython --HistoryManager.hist_file=/tmp/ipython_hist.sqlite\r\n",
        "# c.HistoryManager.hist_file = u''\r\n",
        "\r\n",
        "# Options for configuring the SQLite connection\r\n",
        "# \r\n",
        "# These options are passed as keyword args to sqlite3.connect when establishing\r\n",
        "# database conenctions.\r\n",
        "# c.HistoryManager.connection_options = {}\r\n",
        "\r\n",
        "# enable the SQLite history\r\n",
        "# \r\n",
        "# set enabled=False to disable the SQLite history, in which case there will be\r\n",
        "# no stored history, no SQLite connection, and no background saving thread.\r\n",
        "# This may be necessary in some threaded environments where IPython is embedded.\r\n",
        "# c.HistoryManager.enabled = True\r\n",
        "\r\n",
        "#------------------------------------------------------------------------------\r\n",
        "# ProfileDir configuration\r\n",
        "#------------------------------------------------------------------------------\r\n",
        "\r\n",
        "# An object to manage the profile directory and its resources.\r\n",
        "# \r\n",
        "# The profile directory is used by all IPython applications, to manage\r\n",
        "# configuration, logging and security.\r\n",
        "# \r\n",
        "# This object knows how to find, create and manage these directories. This\r\n",
        "# should be used by any code that wants to handle profiles.\r\n",
        "\r\n",
        "# Set the profile location directly. This overrides the logic used by the\r\n",
        "# `profile` option.\r\n",
        "# c.ProfileDir.location = u''\r\n",
        "\r\n",
        "#------------------------------------------------------------------------------\r\n",
        "# PlainTextFormatter configuration\r\n",
        "#------------------------------------------------------------------------------\r\n",
        "\r\n",
        "# The default pretty-printer.\r\n",
        "# \r\n",
        "# This uses :mod:`IPython.lib.pretty` to compute the format data of the object.\r\n",
        "# If the object cannot be pretty printed, :func:`repr` is used. See the\r\n",
        "# documentation of :mod:`IPython.lib.pretty` for details on how to write pretty\r\n",
        "# printers.  Here is a simple example::\r\n",
        "# \r\n",
        "#     def dtype_pprinter(obj, p, cycle):\r\n",
        "#         if cycle:\r\n",
        "#             return p.text('dtype(...)')\r\n",
        "#         if hasattr(obj, 'fields'):\r\n",
        "#             if obj.fields is None:\r\n",
        "#                 p.text(repr(obj))\r\n",
        "#             else:\r\n",
        "#                 p.begin_group(7, 'dtype([')\r\n",
        "#                 for i, field in enumerate(obj.descr):\r\n",
        "#                     if i > 0:\r\n",
        "#                         p.text(',')\r\n",
        "#                         p.breakable()\r\n",
        "#                     p.pretty(field)\r\n",
        "#                 p.end_group(7, '])')\r\n",
        "\r\n",
        "# PlainTextFormatter will inherit config from: BaseFormatter\r\n",
        "\r\n",
        "# \r\n",
        "# c.PlainTextFormatter.type_printers = {}\r\n",
        "\r\n",
        "# \r\n",
        "# c.PlainTextFormatter.newline = '\\n'\r\n",
        "\r\n",
        "# \r\n",
        "# c.PlainTextFormatter.float_precision = ''\r\n",
        "\r\n",
        "# \r\n",
        "# c.PlainTextFormatter.verbose = False\r\n",
        "\r\n",
        "# \r\n",
        "# c.PlainTextFormatter.deferred_printers = {}\r\n",
        "\r\n",
        "# \r\n",
        "# c.PlainTextFormatter.pprint = True\r\n",
        "\r\n",
        "# \r\n",
        "# c.PlainTextFormatter.max_width = 79\r\n",
        "\r\n",
        "# \r\n",
        "# c.PlainTextFormatter.singleton_printers = {}\r\n",
        "\r\n",
        "#------------------------------------------------------------------------------\r\n",
        "# IPCompleter configuration\r\n",
        "#------------------------------------------------------------------------------\r\n",
        "\r\n",
        "# Extension of the completer class with IPython-specific features\r\n",
        "\r\n",
        "# IPCompleter will inherit config from: Completer\r\n",
        "\r\n",
        "# Instruct the completer to omit private method names\r\n",
        "# \r\n",
        "# Specifically, when completing on ``object.<tab>``.\r\n",
        "# \r\n",
        "# When 2 [default]: all names that start with '_' will be excluded.\r\n",
        "# \r\n",
        "# When 1: all 'magic' names (``__foo__``) will be excluded.\r\n",
        "# \r\n",
        "# When 0: nothing will be excluded.\r\n",
        "# c.IPCompleter.omit__names = 2\r\n",
        "\r\n",
        "# Whether to merge completion results into a single list\r\n",
        "# \r\n",
        "# If False, only the completion results from the first non-empty completer will\r\n",
        "# be returned.\r\n",
        "# c.IPCompleter.merge_completions = True\r\n",
        "\r\n",
        "# Instruct the completer to use __all__ for the completion\r\n",
        "# \r\n",
        "# Specifically, when completing on ``object.<tab>``.\r\n",
        "# \r\n",
        "# When True: only those names in obj.__all__ will be included.\r\n",
        "# \r\n",
        "# When False [default]: the __all__ attribute is ignored\r\n",
        "# c.IPCompleter.limit_to__all__ = False\r\n",
        "\r\n",
        "# Activate greedy completion\r\n",
        "# \r\n",
        "# This will enable completion on elements of lists, results of function calls,\r\n",
        "# etc., but can be unsafe because the code is actually evaluated on TAB.\r\n",
        "# c.IPCompleter.greedy = False\r\n",
        "\r\n",
        "#------------------------------------------------------------------------------\r\n",
        "# ScriptMagics configuration\r\n",
        "#------------------------------------------------------------------------------\r\n",
        "\r\n",
        "# Magics for talking to scripts\r\n",
        "# \r\n",
        "# This defines a base `%%script` cell magic for running a cell with a program in\r\n",
        "# a subprocess, and registers a few top-level magics that call %%script with\r\n",
        "# common interpreters.\r\n",
        "\r\n",
        "# Extra script cell magics to define\r\n",
        "# \r\n",
        "# This generates simple wrappers of `%%script foo` as `%%foo`.\r\n",
        "# \r\n",
        "# If you want to add script magics that aren't on your path, specify them in\r\n",
        "# script_paths\r\n",
        "# c.ScriptMagics.script_magics = []\r\n",
        "\r\n",
        "# Dict mapping short 'ruby' names to full paths, such as '/opt/secret/bin/ruby'\r\n",
        "# \r\n",
        "# Only necessary for items in script_magics where the default path will not find\r\n",
        "# the right interpreter.\r\n",
        "# c.ScriptMagics.script_paths = {}\r\n",
        "\r\n",
        "#------------------------------------------------------------------------------\r\n",
        "# StoreMagics configuration\r\n",
        "#------------------------------------------------------------------------------\r\n",
        "\r\n",
        "# Lightweight persistence for python variables.\r\n",
        "# \r\n",
        "# Provides the %store magic.\r\n",
        "\r\n",
        "# If True, any %store-d variables will be automatically restored when IPython\r\n",
        "# starts.\r\n",
        "# c.StoreMagics.autorestore = False\r\n"
       ]
      }
     ],
     "prompt_number": 4
    },
    {
     "cell_type": "heading",
     "level": 1,
     "metadata": {
      "internals": {
       "slide_type": "subslide"
      },
      "slideshow": {
       "slide_type": "subslide"
      }
     },
     "source": [
      "Setting up a public server with password"
     ]
    },
    {
     "cell_type": "code",
     "collapsed": false,
     "input": [
      "dis.IFrame(\"http://ipython.org/ipython-doc/1/interactive/public_server.html\",1000,600)"
     ],
     "language": "python",
     "metadata": {
      "internals": {
       "slide_helper": "subslide_end"
      },
      "slide_helper": "subslide_end",
      "slideshow": {
       "slide_type": "-"
      }
     },
     "outputs": [
      {
       "html": [
        "\n",
        "        <iframe\n",
        "            width=\"1000\"\n",
        "            height=600\"\n",
        "            src=\"http://ipython.org/ipython-doc/1/interactive/public_server.html\"\n",
        "            frameborder=\"0\"\n",
        "            allowfullscreen\n",
        "        ></iframe>\n",
        "        "
       ],
       "metadata": {},
       "output_type": "pyout",
       "prompt_number": 46,
       "text": [
        "<IPython.lib.display.IFrame at 0x7ff75f38fa10>"
       ]
      }
     ],
     "prompt_number": 46
    },
    {
     "cell_type": "heading",
     "level": 1,
     "metadata": {
      "internals": {
       "slide_type": "subslide"
      },
      "slideshow": {
       "slide_type": "subslide"
      }
     },
     "source": [
      "For live notebook presentations like this: RISE"
     ]
    },
    {
     "cell_type": "markdown",
     "metadata": {
      "internals": {},
      "slideshow": {
       "slide_type": "-"
      }
     },
     "source": [
      "After setting up by running notebook below:\n",
      "\n",
      "<pre>ipython nbserver --profile=rise</pre>"
     ]
    },
    {
     "cell_type": "code",
     "collapsed": false,
     "input": [
      "dis.IFrame(\"http://nbviewer.ipython.org/github/damianavila/live_reveal/blob/master/Install_RJSE.ipynb\",1000,600)"
     ],
     "language": "python",
     "metadata": {
      "internals": {
       "slide_helper": "subslide_end"
      },
      "slide_helper": "slide_end",
      "slideshow": {
       "slide_type": "-"
      }
     },
     "outputs": [
      {
       "html": [
        "\n",
        "        <iframe\n",
        "            width=\"1000\"\n",
        "            height=600\"\n",
        "            src=\"http://nbviewer.ipython.org/github/damianavila/live_reveal/blob/master/Install_RJSE.ipynb\"\n",
        "            frameborder=\"0\"\n",
        "            allowfullscreen\n",
        "        ></iframe>\n",
        "        "
       ],
       "metadata": {},
       "output_type": "pyout",
       "prompt_number": 36,
       "text": [
        "<IPython.lib.display.IFrame at 0x7ff75f38f890>"
       ]
      }
     ],
     "prompt_number": 36
    },
    {
     "cell_type": "heading",
     "level": 1,
     "metadata": {
      "internals": {
       "slide_helper": "subslide_end",
       "slide_type": "subslide"
      },
      "slide_helper": "slide_end",
      "slideshow": {
       "slide_type": "slide"
      }
     },
     "source": [
      "That's it!"
     ]
    },
    {
     "cell_type": "heading",
     "level": 1,
     "metadata": {
      "internals": {
       "slide_type": "subslide"
      },
      "slideshow": {
       "slide_type": "slide"
      }
     },
     "source": [
      "Basic notebook use"
     ]
    },
    {
     "cell_type": "markdown",
     "metadata": {
      "internals": {
       "frag_number": 21
      },
      "slideshow": {
       "slide_type": "fragment"
      }
     },
     "source": [
      "<li>Menu bar - <i>Step out and check it out.</i>  Now we'll go to <b>Help / User Interface Tour.</b></li>"
     ]
    },
    {
     "cell_type": "markdown",
     "metadata": {
      "internals": {
       "frag_helper": "fragment_end",
       "frag_number": 22
      },
      "slideshow": {
       "slide_type": "fragment"
      }
     },
     "source": [
      "<li>Edit vs command mode: Enter vs ESC</li>"
     ]
    },
    {
     "cell_type": "markdown",
     "metadata": {
      "internals": {
       "frag_helper": "fragment_end",
       "frag_number": 23
      },
      "slideshow": {
       "slide_type": "fragment"
      }
     },
     "source": [
      "<li>In command mode (esc): hit <b>h</b> for help (demonstrate)</li>"
     ]
    },
    {
     "cell_type": "markdown",
     "metadata": {
      "internals": {
       "frag_helper": "fragment_end",
       "frag_number": 24
      },
      "slideshow": {
       "slide_type": "fragment"
      }
     },
     "source": [
      "<li>Or pick Help / Keyboard Shortcuts from the menus.</li>"
     ]
    },
    {
     "cell_type": "markdown",
     "metadata": {
      "internals": {
       "frag_helper": "fragment_end",
       "frag_number": 24,
       "slide_helper": "subslide_end"
      },
      "slide_helper": "slide_end",
      "slideshow": {
       "slide_type": "-"
      }
     },
     "source": [
      "<li>While we're here: look at the \"slide type\" choices when the \"Slideshow\" cell toolbar is showing.</li>"
     ]
    },
    {
     "cell_type": "heading",
     "level": 1,
     "metadata": {
      "internals": {
       "frag_helper": "fragment_end",
       "frag_number": 24,
       "slide_type": "subslide"
      },
      "slideshow": {
       "slide_type": "slide"
      }
     },
     "source": [
      "Cell types"
     ]
    },
    {
     "cell_type": "heading",
     "level": 2,
     "metadata": {
      "internals": {
       "frag_helper": "fragment_end",
       "frag_number": 24
      },
      "slideshow": {
       "slide_type": "-"
      }
     },
     "source": [
      "Header 2"
     ]
    },
    {
     "cell_type": "heading",
     "level": 3,
     "metadata": {
      "internals": {
       "frag_helper": "fragment_end",
       "frag_number": 24
      },
      "slideshow": {
       "slide_type": "-"
      }
     },
     "source": [
      "Header 3"
     ]
    },
    {
     "cell_type": "heading",
     "level": 4,
     "metadata": {
      "internals": {
       "frag_helper": "fragment_end",
       "frag_number": 24
      },
      "slideshow": {
       "slide_type": "-"
      }
     },
     "source": [
      "Header 4"
     ]
    },
    {
     "cell_type": "heading",
     "level": 5,
     "metadata": {
      "internals": {
       "frag_helper": "fragment_end",
       "frag_number": 24
      },
      "slideshow": {
       "slide_type": "-"
      }
     },
     "source": [
      "Header 5"
     ]
    },
    {
     "cell_type": "raw",
     "metadata": {
      "internals": {
       "frag_helper": "fragment_end",
       "frag_number": 24
      },
      "slideshow": {
       "slide_type": "-"
      }
     },
     "source": [
      "Raw"
     ]
    },
    {
     "cell_type": "markdown",
     "metadata": {
      "internals": {
       "frag_helper": "fragment_end",
       "frag_number": 24
      },
      "slideshow": {
       "slide_type": "-"
      }
     },
     "source": [
      "Markdown <b>Bold</b> <i>Italics</i> $\\int_0^1 \\!f(x)\\mathrm{d}x$"
     ]
    },
    {
     "cell_type": "code",
     "collapsed": false,
     "input": [
      "5*9"
     ],
     "language": "python",
     "metadata": {
      "internals": {
       "frag_helper": "fragment_end",
       "frag_number": 24,
       "slide_helper": "subslide_end"
      },
      "slide_helper": "slide_end",
      "slideshow": {
       "slide_type": "-"
      }
     },
     "outputs": [
      {
       "metadata": {},
       "output_type": "pyout",
       "prompt_number": 8,
       "text": [
        "45"
       ]
      }
     ],
     "prompt_number": 8
    },
    {
     "cell_type": "heading",
     "level": 1,
     "metadata": {
      "internals": {
       "frag_helper": "fragment_end",
       "frag_number": 24,
       "slide_type": "subslide"
      },
      "slideshow": {
       "slide_type": "slide"
      }
     },
     "source": [
      "Graphics"
     ]
    },
    {
     "cell_type": "markdown",
     "metadata": {
      "internals": {
       "frag_helper": "fragment_end",
       "frag_number": 24
      },
      "slideshow": {
       "slide_type": "-"
      }
     },
     "source": [
      "Many types of charts can be inserted directly into the notebook with matplotlib.\n",
      "\n",
      "The following are adapted from http://nbviewer.ipython.org/github/jrjohansson/scientific-python-lectures/blob/master/Lecture-4-Matplotlib.ipynb."
     ]
    },
    {
     "cell_type": "code",
     "collapsed": false,
     "input": [
      "n = array([0,1,2,3,4,5])\n",
      "xx = np.linspace(-0.75, 1., 100)\n",
      "\n",
      "fig, axes = plt.subplots(1, 4, figsize=(12,3))\n",
      "\n",
      "axes[0].scatter(xx, xx + 0.25*randn(len(xx)))\n",
      "axes[0].set_title(\"scatter\")\n",
      "\n",
      "axes[1].step(n, n**2, lw=2)\n",
      "axes[1].set_title(\"step\")\n",
      "\n",
      "axes[2].bar(n, n**2, align=\"center\", width=0.5, alpha=0.5)\n",
      "axes[2].set_title(\"bar\")\n",
      "\n",
      "axes[3].fill_between(xx, xx**2, xx**3, color=\"green\", alpha=0.5);\n",
      "axes[3].set_title(\"fill_between\");"
     ],
     "language": "python",
     "metadata": {
      "internals": {
       "frag_helper": "fragment_end",
       "frag_number": 24,
       "slide_helper": "subslide_end"
      },
      "slide_helper": "slide_end",
      "slideshow": {
       "slide_type": "-"
      }
     },
     "outputs": [
      {
       "metadata": {},
       "output_type": "display_data",
       "png": "[encoded data removed]",
       "text": [
        "<matplotlib.figure.Figure at 0x7f35bf8aee90>"
       ]
      }
     ],
     "prompt_number": 6
    },
    {
     "cell_type": "heading",
     "level": 1,
     "metadata": {
      "internals": {
       "frag_helper": "fragment_end",
       "frag_number": 24,
       "slide_type": "subslide"
      },
      "slideshow": {
       "slide_type": "slide"
      }
     },
     "source": [
      "IPython Display System"
     ]
    },
    {
     "cell_type": "markdown",
     "metadata": {
      "internals": {
       "frag_helper": "fragment_end",
       "frag_number": 24
      },
      "slideshow": {
       "slide_type": "-"
      }
     },
     "source": [
      "Show HTML, outside video, other websites in an iframe, etc"
     ]
    },
    {
     "cell_type": "code",
     "collapsed": false,
     "input": [
      "import IPython.display as dis"
     ],
     "language": "python",
     "metadata": {
      "internals": {
       "frag_helper": "fragment_end",
       "frag_number": 24
      },
      "slideshow": {
       "slide_type": "-"
      }
     },
     "outputs": [],
     "prompt_number": 10
    },
    {
     "cell_type": "markdown",
     "metadata": {
      "internals": {
       "frag_helper": "fragment_end",
       "frag_number": 24
      },
      "slideshow": {
       "slide_type": "-"
      }
     },
     "source": [
      "ref: http://nbviewer.ipython.org/github/ipython/ipython/blob/1.x/examples/notebooks/Part%205%20-%20Rich%20Display%20System.ipynb"
     ]
    },
    {
     "cell_type": "code",
     "collapsed": false,
     "input": [
      "dis.YouTubeVideo('y8Kyi0WNg40')"
     ],
     "language": "python",
     "metadata": {
      "internals": {
       "frag_helper": "fragment_end",
       "frag_number": 24,
       "slide_helper": "subslide_end"
      },
      "slide_helper": "subslide_end",
      "slideshow": {
       "slide_type": "-"
      }
     },
     "outputs": [
      {
       "html": [
        "\n",
        "        <iframe\n",
        "            width=\"400\"\n",
        "            height=300\"\n",
        "            src=\"https://www.youtube.com/embed/y8Kyi0WNg40\"\n",
        "            frameborder=\"0\"\n",
        "            allowfullscreen\n",
        "        ></iframe>\n",
        "        "
       ],
       "metadata": {},
       "output_type": "pyout",
       "prompt_number": 11,
       "text": [
        "<IPython.lib.display.YouTubeVideo at 0x7f5f5a8fa810>"
       ]
      }
     ],
     "prompt_number": 11
    },
    {
     "cell_type": "heading",
     "level": 1,
     "metadata": {
      "internals": {
       "frag_helper": "fragment_end",
       "frag_number": 24,
       "slide_type": "subslide"
      },
      "slideshow": {
       "slide_type": "subslide"
      }
     },
     "source": [
      "SVG"
     ]
    },
    {
     "cell_type": "code",
     "collapsed": false,
     "input": [
      "dis.SVG(\"\"\"\n",
      "<svg width=\"400\" height=\"200\">\n",
      "  <rect x=\"50\" y=\"20\" width=\"150\" height=\"150\" style=\"fill:blue;stroke:pink;stroke-width:5;fill-opacity:0.1;stroke-opacity:0.9\"/>\n",
      "  <rect x=\"75\" y=\"35\" width=\"150\" height=\"150\" style=\"fill:blue;stroke:pink;stroke-width:5;fill-opacity:0.1;stroke-opacity:0.9\"/>\n",
      "  Sorry, your browser does not support inline SVG.  \n",
      "</svg>\n",
      "\"\"\")"
     ],
     "language": "python",
     "metadata": {
      "internals": {
       "frag_helper": "fragment_end",
       "frag_number": 24,
       "slide_helper": "subslide_end"
      },
      "slide_helper": "subslide_end",
      "slideshow": {
       "slide_type": "-"
      }
     },
     "outputs": [
      {
       "metadata": {},
       "output_type": "pyout",
       "prompt_number": 18,
       "svg": [
        "<svg height=\"200\" width=\"400\">\n",
        "  <rect height=\"150\" style=\"fill:blue;stroke:pink;stroke-width:5;fill-opacity:0.1;stroke-opacity:0.9\" width=\"150\" x=\"50\" y=\"20\"/>\n",
        "\n",
        "  <rect height=\"150\" style=\"fill:blue;stroke:pink;stroke-width:5;fill-opacity:0.1;stroke-opacity:0.9\" width=\"150\" x=\"75\" y=\"35\"/>\n",
        "\n",
        "  Sorry, your browser does not support inline SVG.  \n",
        "</svg>"
       ],
       "text": [
        "<IPython.core.display.SVG at 0x7f5f5aac6d50>"
       ]
      }
     ],
     "prompt_number": 18
    },
    {
     "cell_type": "heading",
     "level": 1,
     "metadata": {
      "internals": {
       "frag_helper": "fragment_end",
       "frag_number": 24,
       "slide_type": "subslide"
      },
      "slideshow": {
       "slide_type": "subslide"
      }
     },
     "source": [
      "Images"
     ]
    },
    {
     "cell_type": "code",
     "collapsed": false,
     "input": [
      "dis.Image(\"http://i.imgur.com/VnzvKxX.jpg\")"
     ],
     "language": "python",
     "metadata": {
      "internals": {
       "frag_helper": "fragment_end",
       "frag_number": 24,
       "slide_helper": "subslide_end"
      },
      "slide_helper": "subslide_end",
      "slideshow": {
       "slide_type": "-"
      }
     },
     "outputs": [
      {
       "jpeg": "[encoded data removed]",
       "metadata": {},
       "output_type": "pyout",
       "prompt_number": 21,
       "text": [
        "<IPython.core.display.Image at 0x7f5f5aac6890>"
       ]
      }
     ],
     "prompt_number": 21
    },
    {
     "cell_type": "heading",
     "level": 1,
     "metadata": {
      "internals": {
       "frag_helper": "fragment_end",
       "frag_number": 24,
       "slide_type": "subslide"
      },
      "slideshow": {
       "slide_type": "subslide"
      }
     },
     "source": [
      "Outside site"
     ]
    },
    {
     "cell_type": "code",
     "collapsed": false,
     "input": [
      "dis.IFrame(\"http://bdholland.com/data/nbs/slides/umoa/hosvd/pres/DimensionsMonth.xhtml\",1000,800)"
     ],
     "language": "python",
     "metadata": {
      "internals": {
       "frag_helper": "fragment_end",
       "frag_number": 24,
       "slide_helper": "subslide_end"
      },
      "slide_helper": "slide_end",
      "slideshow": {
       "slide_type": "-"
      }
     },
     "outputs": [
      {
       "html": [
        "\n",
        "        <iframe\n",
        "            width=\"1000\"\n",
        "            height=800\"\n",
        "            src=\"http://bdholland.com/data/nbs/slides/umoa/hosvd/pres/DimensionsMonth.xhtml\"\n",
        "            frameborder=\"0\"\n",
        "            allowfullscreen\n",
        "        ></iframe>\n",
        "        "
       ],
       "metadata": {},
       "output_type": "pyout",
       "prompt_number": 2,
       "text": [
        "<IPython.lib.display.IFrame at 0x7f814b2e6d50>"
       ]
      }
     ],
     "prompt_number": 2
    },
    {
     "cell_type": "heading",
     "level": 1,
     "metadata": {
      "internals": {
       "frag_helper": "fragment_end",
       "frag_number": 24,
       "slide_type": "subslide"
      },
      "slideshow": {
       "slide_type": "slide"
      }
     },
     "source": [
      "Widgets"
     ]
    },
    {
     "cell_type": "code",
     "collapsed": false,
     "input": [
      "%%bash\n",
      "wget https://raw.githubusercontent.com/ipython/ipython/2.x/examples/Interactive%20Widgets/Using%20Interact.ipynb"
     ],
     "language": "python",
     "metadata": {
      "internals": {
       "frag_helper": "fragment_end",
       "frag_number": 24
      },
      "slideshow": {
       "slide_type": "-"
      }
     },
     "outputs": []
    },
    {
     "cell_type": "markdown",
     "metadata": {
      "internals": {
       "frag_helper": "fragment_end",
       "frag_number": 24
      },
      "slideshow": {
       "slide_type": "-"
      }
     },
     "source": [
      "Official example: <a href='Using%20Interact.ipynb'>Using Interact</a> from link above"
     ]
    },
    {
     "cell_type": "code",
     "collapsed": false,
     "input": [
      "from IPython.html.widgets import interact, interactive, fixed\n",
      "from IPython.html import widgets\n",
      "import matplotlib.pyplot as plt, numpy as np, pandas as pd"
     ],
     "language": "python",
     "metadata": {
      "internals": {
       "frag_helper": "fragment_end",
       "frag_number": 24
      },
      "slideshow": {
       "slide_type": "-"
      }
     },
     "outputs": [],
     "prompt_number": 7
    },
    {
     "cell_type": "code",
     "collapsed": false,
     "input": [
      "x = np.arange(-10,10,0.1);\n",
      "def myplot(a,b):\n",
      "    plt.axis([-10, 10, -10, 10]);\n",
      "    plt.plot(x, a*sin(b*x));\n",
      "    plt.show();"
     ],
     "language": "python",
     "metadata": {
      "internals": {
       "frag_helper": "fragment_end",
       "frag_number": 24
      },
      "slideshow": {
       "slide_type": "-"
      }
     },
     "outputs": [],
     "prompt_number": 8
    },
    {
     "cell_type": "code",
     "collapsed": false,
     "input": [
      "i = interact(myplot, a=(0,10,0.01), b=(-3,3,0.01));"
     ],
     "language": "python",
     "metadata": {
      "internals": {
       "frag_helper": "fragment_end",
       "frag_number": 24,
       "slide_helper": "subslide_end"
      },
      "slide_helper": "slide_end",
      "slideshow": {
       "slide_type": "-"
      }
     },
     "outputs": [
      {
       "metadata": {},
       "output_type": "display_data",
       "png": "[encoded data removed]",
       "text": [
        "<matplotlib.figure.Figure at 0x7f35bd39b350>"
       ]
      }
     ],
     "prompt_number": 9
    },
    {
     "cell_type": "heading",
     "level": 1,
     "metadata": {
      "internals": {
       "frag_helper": "fragment_end",
       "frag_number": 24,
       "slide_type": "subslide"
      },
      "slideshow": {
       "slide_type": "slide"
      }
     },
     "source": [
      "Cell magics"
     ]
    },
    {
     "cell_type": "markdown",
     "metadata": {
      "internals": {
       "frag_helper": "fragment_end",
       "frag_number": 24
      },
      "slideshow": {
       "slide_type": "-"
      }
     },
     "source": [
      "http://ipython.org/ipython-doc/dev/interactive/tutorial.html"
     ]
    },
    {
     "cell_type": "markdown",
     "metadata": {
      "internals": {
       "frag_helper": "fragment_end",
       "frag_number": 24
      },
      "slideshow": {
       "slide_type": "-"
      }
     },
     "source": [
      "<ul><li>Two types: cell magics, line magics</li>\n",
      "    <li>Line magics can skip initial \"%\"</li>\n",
      "    <li>Bash commands with \"!\"</li>\n",
      "</ul>"
     ]
    },
    {
     "cell_type": "code",
     "collapsed": false,
     "input": [
      "%lsmagic #List them all"
     ],
     "language": "python",
     "metadata": {
      "internals": {
       "frag_helper": "fragment_end",
       "frag_number": 24
      },
      "slideshow": {
       "slide_type": "-"
      }
     },
     "outputs": [
      {
       "json": [
        "{\"cell\": {\"prun\": \"ExecutionMagics\", \"file\": \"Other\", \"!\": \"OSMagics\", \"capture\": \"ExecutionMagics\", \"timeit\": \"ExecutionMagics\", \"script\": \"ScriptMagics\", \"pypy\": \"Other\", \"system\": \"OSMagics\", \"perl\": \"Other\", \"HTML\": \"Other\", \"bash\": \"Other\", \"python\": \"Other\", \"SVG\": \"Other\", \"javascript\": \"DisplayMagics\", \"writefile\": \"OSMagics\", \"ruby\": \"Other\", \"python3\": \"Other\", \"python2\": \"Other\", \"latex\": \"DisplayMagics\", \"sx\": \"OSMagics\", \"svg\": \"DisplayMagics\", \"html\": \"DisplayMagics\", \"sh\": \"Other\", \"time\": \"ExecutionMagics\", \"debug\": \"ExecutionMagics\"}, \"line\": {\"psource\": \"NamespaceMagics\", \"logstart\": \"LoggingMagics\", \"popd\": \"OSMagics\", \"loadpy\": \"CodeMagics\", \"install_ext\": \"ExtensionMagics\", \"colors\": \"BasicMagics\", \"who_ls\": \"NamespaceMagics\", \"lf\": \"Other\", \"install_profiles\": \"DeprecatedMagics\", \"ll\": \"Other\", \"pprint\": \"BasicMagics\", \"lk\": \"Other\", \"ls\": \"Other\", \"save\": \"CodeMagics\", \"tb\": \"ExecutionMagics\", \"lx\": \"Other\", \"pylab\": \"PylabMagics\", \"killbgscripts\": \"ScriptMagics\", \"quickref\": \"BasicMagics\", \"magic\": \"BasicMagics\", \"dhist\": \"OSMagics\", \"edit\": \"KernelMagics\", \"logstop\": \"LoggingMagics\", \"gui\": \"BasicMagics\", \"alias_magic\": \"BasicMagics\", \"debug\": \"ExecutionMagics\", \"page\": \"BasicMagics\", \"logstate\": \"LoggingMagics\", \"ed\": \"Other\", \"pushd\": \"OSMagics\", \"timeit\": \"ExecutionMagics\", \"rehashx\": \"OSMagics\", \"hist\": \"Other\", \"qtconsole\": \"KernelMagics\", \"rm\": \"Other\", \"dirs\": \"OSMagics\", \"run\": \"ExecutionMagics\", \"reset_selective\": \"NamespaceMagics\", \"rep\": \"Other\", \"pinfo2\": \"NamespaceMagics\", \"matplotlib\": \"PylabMagics\", \"unload_ext\": \"ExtensionMagics\", \"doctest_mode\": \"KernelMagics\", \"logoff\": \"LoggingMagics\", \"reload_ext\": \"ExtensionMagics\", \"pdb\": \"ExecutionMagics\", \"load\": \"CodeMagics\", \"lsmagic\": \"BasicMagics\", \"autosave\": \"KernelMagics\", \"cd\": \"OSMagics\", \"pastebin\": \"CodeMagics\", \"prun\": \"ExecutionMagics\", \"cp\": \"Other\", \"autocall\": \"AutoMagics\", \"bookmark\": \"OSMagics\", \"connect_info\": \"KernelMagics\", \"mkdir\": \"Other\", \"system\": \"OSMagics\", \"whos\": \"NamespaceMagics\", \"rmdir\": \"Other\", \"automagic\": \"AutoMagics\", \"store\": \"StoreMagics\", \"more\": \"KernelMagics\", \"pdef\": \"NamespaceMagics\", \"precision\": \"BasicMagics\", \"pinfo\": \"NamespaceMagics\", \"pwd\": \"OSMagics\", \"psearch\": \"NamespaceMagics\", \"reset\": \"NamespaceMagics\", \"recall\": \"HistoryMagics\", \"xdel\": \"NamespaceMagics\", \"xmode\": \"BasicMagics\", \"cat\": \"Other\", \"mv\": \"Other\", \"rerun\": \"HistoryMagics\", \"logon\": \"LoggingMagics\", \"history\": \"HistoryMagics\", \"pycat\": \"OSMagics\", \"unalias\": \"OSMagics\", \"install_default_config\": \"DeprecatedMagics\", \"env\": \"OSMagics\", \"load_ext\": \"ExtensionMagics\", \"config\": \"ConfigMagics\", \"profile\": \"BasicMagics\", \"pfile\": \"NamespaceMagics\", \"less\": \"KernelMagics\", \"who\": \"NamespaceMagics\", \"notebook\": \"BasicMagics\", \"man\": \"KernelMagics\", \"sx\": \"OSMagics\", \"macro\": \"ExecutionMagics\", \"clear\": \"KernelMagics\", \"alias\": \"OSMagics\", \"time\": \"ExecutionMagics\", \"sc\": \"OSMagics\", \"ldir\": \"Other\", \"pdoc\": \"NamespaceMagics\"}}"
       ],
       "metadata": {},
       "output_type": "pyout",
       "prompt_number": 6,
       "text": [
        "Available line magics:\n",
        "%alias  %alias_magic  %autocall  %automagic  %autosave  %bookmark  %cat  %cd  %clear  %colors  %config  %connect_info  %cp  %debug  %dhist  %dirs  %doctest_mode  %ed  %edit  %env  %gui  %hist  %history  %install_default_config  %install_ext  %install_profiles  %killbgscripts  %ldir  %less  %lf  %lk  %ll  %load  %load_ext  %loadpy  %logoff  %logon  %logstart  %logstate  %logstop  %ls  %lsmagic  %lx  %macro  %magic  %man  %matplotlib  %mkdir  %more  %mv  %notebook  %page  %pastebin  %pdb  %pdef  %pdoc  %pfile  %pinfo  %pinfo2  %popd  %pprint  %precision  %profile  %prun  %psearch  %psource  %pushd  %pwd  %pycat  %pylab  %qtconsole  %quickref  %recall  %rehashx  %reload_ext  %rep  %rerun  %reset  %reset_selective  %rm  %rmdir  %run  %save  %sc  %store  %sx  %system  %tb  %time  %timeit  %unalias  %unload_ext  %who  %who_ls  %whos  %xdel  %xmode\n",
        "\n",
        "Available cell magics:\n",
        "%%!  %%HTML  %%SVG  %%bash  %%capture  %%debug  %%file  %%html  %%javascript  %%latex  %%perl  %%prun  %%pypy  %%python  %%python2  %%python3  %%ruby  %%script  %%sh  %%svg  %%sx  %%system  %%time  %%timeit  %%writefile\n",
        "\n",
        "Automagic is ON, % prefix IS NOT needed for line magics."
       ]
      }
     ],
     "prompt_number": 6
    },
    {
     "cell_type": "code",
     "collapsed": false,
     "input": [
      "%%debug?"
     ],
     "language": "python",
     "metadata": {
      "internals": {
       "frag_helper": "fragment_end",
       "frag_number": 24
      },
      "slideshow": {
       "slide_type": "-"
      }
     },
     "outputs": [],
     "prompt_number": 10
    },
    {
     "cell_type": "code",
     "collapsed": false,
     "input": [
      "pwd #can skip % for 1-line magics"
     ],
     "language": "python",
     "metadata": {
      "internals": {
       "frag_helper": "fragment_end",
       "frag_number": 24
      },
      "slideshow": {
       "slide_type": "-"
      }
     },
     "outputs": [
      {
       "metadata": {},
       "output_type": "pyout",
       "prompt_number": 11,
       "text": [
        "u'/home/brian/nbs/slides/IPythonNotebooks'"
       ]
      }
     ],
     "prompt_number": 11
    },
    {
     "cell_type": "code",
     "collapsed": false,
     "input": [
      "%%bash\n",
      "#Can bash much stuff \n",
      "ls -la"
     ],
     "language": "python",
     "metadata": {
      "internals": {
       "frag_helper": "fragment_end",
       "frag_number": 24
      },
      "slideshow": {
       "slide_type": "-"
      }
     },
     "outputs": [
      {
       "output_type": "stream",
       "stream": "stdout",
       "text": [
        "total 1120\n",
        "drwxrwxr-x 4 brian brian   4096 Oct  9 20:04 .\n",
        "drwxrwxr-x 6 brian brian   4096 Oct  1 21:25 ..\n",
        "drwxrwxr-x 2 brian brian   4096 Oct  1 21:26 .ipynb_checkpoints\n",
        "lrwxrwxrwx 1 brian brian     14 Oct  1 21:29 js -> /home/brian/js\n",
        "-rw-r--r-- 1 brian brian   1347 Oct  1 21:30 output_toggle.tpl\n",
        "drwxrwxr-x 2 brian brian   4096 Oct  9 11:34 PyATL-IPythonNotebooks_files\n",
        "-rw-rw-r-- 1 brian brian 312943 Oct  9 20:04 PyATL-IPythonNotebooks.ipynb\n",
        "-rw-rw-r-- 1 brian brian 281717 Oct  7 22:19 PyATL-IPythonNotebooks.ipynb.bak\n",
        "-rw-rw-r-- 1 brian brian 470596 Oct  8 19:41 PyATL-IPythonNotebooks.slides.html\n",
        "-rw-rw-r-- 1 brian brian  56754 Oct  9 11:34 PyATL-IPythonNotebooks.tex\n",
        "lrwxrwxrwx 1 brian brian     27 Oct  1 21:30 reveal.js -> /home/brian/repos/reveal.js\n"
       ]
      }
     ],
     "prompt_number": 12
    },
    {
     "cell_type": "code",
     "collapsed": false,
     "input": [
      "!ls -la #shell commands prefixed with bang"
     ],
     "language": "python",
     "metadata": {
      "internals": {
       "frag_helper": "fragment_end",
       "frag_number": 24
      },
      "slideshow": {
       "slide_type": "-"
      }
     },
     "outputs": [
      {
       "output_type": "stream",
       "stream": "stdout",
       "text": [
        "total 1120"
       ]
      },
      {
       "output_type": "stream",
       "stream": "stdout",
       "text": [
        "\r\n",
        "drwxrwxr-x 4 brian brian   4096 Oct  9 20:04 .\r\n",
        "drwxrwxr-x 6 brian brian   4096 Oct  1 21:25 ..\r\n",
        "drwxrwxr-x 2 brian brian   4096 Oct  1 21:26 .ipynb_checkpoints\r\n",
        "lrwxrwxrwx 1 brian brian     14 Oct  1 21:29 js -> /home/brian/js\r\n",
        "-rw-r--r-- 1 brian brian   1347 Oct  1 21:30 output_toggle.tpl\r\n",
        "drwxrwxr-x 2 brian brian   4096 Oct  9 11:34 PyATL-IPythonNotebooks_files\r\n",
        "-rw-rw-r-- 1 brian brian 312943 Oct  9 20:04 PyATL-IPythonNotebooks.ipynb\r\n",
        "-rw-rw-r-- 1 brian brian 281717 Oct  7 22:19 PyATL-IPythonNotebooks.ipynb.bak\r\n",
        "-rw-rw-r-- 1 brian brian 470596 Oct  8 19:41 PyATL-IPythonNotebooks.slides.html\r\n",
        "-rw-rw-r-- 1 brian brian  56754 Oct  9 11:34 PyATL-IPythonNotebooks.tex\r\n",
        "lrwxrwxrwx 1 brian brian     27 Oct  1 21:30 reveal.js -> /home/brian/repos/reveal.js\r\n"
       ]
      }
     ],
     "prompt_number": 13
    },
    {
     "cell_type": "code",
     "collapsed": false,
     "input": [
      "files = !ls -la #shell output captured in variable"
     ],
     "language": "python",
     "metadata": {
      "internals": {
       "frag_helper": "fragment_end",
       "frag_number": 24
      },
      "slideshow": {
       "slide_type": "-"
      }
     },
     "outputs": [],
     "prompt_number": 14
    },
    {
     "cell_type": "code",
     "collapsed": false,
     "input": [
      "files"
     ],
     "language": "python",
     "metadata": {
      "internals": {
       "frag_helper": "fragment_end",
       "frag_number": 24,
       "slide_helper": "subslide_end"
      },
      "slide_helper": "slide_end",
      "slideshow": {
       "slide_type": "-"
      }
     },
     "outputs": [
      {
       "metadata": {},
       "output_type": "pyout",
       "prompt_number": 5,
       "text": [
        "['total 500',\n",
        " 'drwxrwxr-x 3 brian brian   4096 Oct  7 22:03 .',\n",
        " 'drwxrwxr-x 6 brian brian   4096 Oct  1 21:25 ..',\n",
        " 'drwxrwxr-x 2 brian brian   4096 Oct  1 21:26 .ipynb_checkpoints',\n",
        " 'lrwxrwxrwx 1 brian brian     14 Oct  1 21:29 js -> /home/brian/js',\n",
        " '-rw-r--r-- 1 brian brian   1347 Oct  1 21:30 output_toggle.tpl',\n",
        " '-rw-rw-r-- 1 brian brian 280741 Oct  7 22:03 PyATL-IPythonNotebooks.ipynb',\n",
        " '-rw-rw-r-- 1 brian brian 210971 Oct  1 21:38 PyATL-IPythonNotebooks.slides.html',\n",
        " 'lrwxrwxrwx 1 brian brian     27 Oct  1 21:30 reveal.js -> /home/brian/repos/reveal.js']"
       ]
      }
     ],
     "prompt_number": 5
    },
    {
     "cell_type": "heading",
     "level": 1,
     "metadata": {
      "internals": {
       "frag_helper": "fragment_end",
       "frag_number": 24,
       "slide_type": "subslide"
      },
      "slideshow": {
       "slide_type": "slide"
      }
     },
     "source": [
      "Conversion to other formats"
     ]
    },
    {
     "cell_type": "markdown",
     "metadata": {
      "internals": {
       "frag_helper": "fragment_end",
       "frag_number": 24
      },
      "slideshow": {
       "slide_type": "-"
      }
     },
     "source": [
      "http://ipython.org/ipython-doc/2/notebook/nbconvert.html"
     ]
    },
    {
     "cell_type": "code",
     "collapsed": false,
     "input": [
      "%%bash\n",
      "#Here I'm converting to static slides.\n",
      "date;\n",
      "cd /home/brian/nbs/slides/IPythonNotebooks;\n",
      "ipython nbconvert --to slides --template output_toggle PyATL-IPythonNotebooks.ipynb;\n",
      "#ssh -i ~/Documents/AWS/Wolke00KP.pem ubuntu@bdholland.com 'cd /vol/data/nbs/slides; mkdir IPythonNotebooks;'\n",
      "scp -i ~/Documents/AWS/Wolke00KP.pem PyATL-IPythonNotebooks.slides.html ubuntu@bdholland.com:/vol/data/nbs/slides/IPythonNotebooks/;\n",
      "date;"
     ],
     "language": "python",
     "metadata": {
      "internals": {
       "frag_helper": "fragment_end",
       "frag_number": 24
      },
      "slideshow": {
       "slide_type": "-"
      }
     },
     "outputs": [
      {
       "output_type": "stream",
       "stream": "stdout",
       "text": [
        "Wed Oct  8 19:41:38 EDT 2014\n",
        "Wed Oct  8 19:41:49 EDT 2014\n"
       ]
      },
      {
       "output_type": "stream",
       "stream": "stderr",
       "text": [
        "[NbConvertApp] Using existing profile dir: u'/home/brian/.ipython/profile_default'\n",
        "[NbConvertApp] Converting notebook PyATL-IPythonNotebooks.ipynb to slides\n",
        "[NbConvertApp] Support files will be in PyATL-IPythonNotebooks_files/\n",
        "[NbConvertApp] Loaded template output_toggle.tpl\n",
        "[NbConvertApp] Writing 470596 bytes to PyATL-IPythonNotebooks.slides.html\n"
       ]
      }
     ],
     "prompt_number": 13
    },
    {
     "cell_type": "markdown",
     "metadata": {
      "internals": {
       "frag_helper": "fragment_end",
       "frag_number": 24,
       "slide_helper": "subslide_end"
      },
      "slide_helper": "subslide_end",
      "slideshow": {
       "slide_type": "-"
      }
     },
     "source": [
      "http://bdholland.com/data/nbs/slides/IPythonNotebooks/PyATL-IPythonNotebooks.slides.html"
     ]
    },
    {
     "cell_type": "heading",
     "level": 1,
     "metadata": {
      "internals": {
       "frag_helper": "fragment_end",
       "frag_number": 24,
       "slide_type": "subslide"
      },
      "slideshow": {
       "slide_type": "subslide"
      }
     },
     "source": [
      "Converting to PDF"
     ]
    },
    {
     "cell_type": "code",
     "collapsed": false,
     "input": [
      "!ipython nbconvert --to=latex --post=pdf PyATL-IPythonNotebooks.ipynb #SORRY I didn't get this to work."
     ],
     "language": "python",
     "metadata": {
      "internals": {
       "frag_helper": "fragment_end",
       "frag_number": 24
      },
      "slideshow": {
       "slide_type": "-"
      }
     },
     "outputs": [
      {
       "output_type": "stream",
       "stream": "stdout",
       "text": [
        "[NbConvertApp] Using existing profile dir: u'/home/brian/.ipython/profile_default'\r\n"
       ]
      },
      {
       "output_type": "stream",
       "stream": "stdout",
       "text": [
        "[NbConvertApp] Converting notebook PyATL-IPythonNotebooks.ipynb to latex\r\n",
        "[NbConvertApp] Support files will be in PyATL-IPythonNotebooks_files/\r\n"
       ]
      },
      {
       "output_type": "stream",
       "stream": "stdout",
       "text": [
        "[NbConvertApp] Loaded template article.tplx\r\n"
       ]
      },
      {
       "output_type": "stream",
       "stream": "stdout",
       "text": [
        "/home/brian/Virtualenvs/v278a/lib/python2.7/site-packages/IPython/nbconvert/utils/pandoc.py:63: RuntimeWarning: You are using an old version of pandoc (1.9.1)\r\n",
        "Recommended version is 1.12.1.\r\n",
        "Try updating.http://johnmacfarlane.net/pandoc/installing.html.\r\n",
        "Continuing with doubts...\r\n",
        "  check_pandoc_version()\r\n"
       ]
      },
      {
       "output_type": "stream",
       "stream": "stdout",
       "text": [
        "[NbConvertApp] Writing 56754 bytes to PyATL-IPythonNotebooks.tex\r\n",
        "[NbConvertApp] Building PDF\r\n",
        "[NbConvertApp] Running pdflatex 3 times: [u'pdflatex', u'PyATL-IPythonNotebooks.tex']\r\n"
       ]
      },
      {
       "output_type": "stream",
       "stream": "stdout",
       "text": [
        "[NbConvertApp] CRITICAL | pdflatex failed: [u'pdflatex', u'PyATL-IPythonNotebooks.tex']\r\n",
        "This is pdfTeX, Version 3.14159265-2.6-1.40.15 (TeX Live 2014) (preloaded format=pdflatex)\r\n",
        " restricted \\write18 enabled.\r\n",
        "entering extended mode\r\n",
        "(./PyATL-IPythonNotebooks.tex\r\n",
        "LaTeX2e <2014/05/01>\r\n",
        "Babel <3.9l> and hyphenation patterns for 79 languages loaded.\r\n",
        "(/usr/local/texlive/2014/texmf-dist/tex/latex/base/article.cls\r\n",
        "Document Class: article 2007/10/19 v1.4h Standard LaTeX document class\r\n",
        "(/usr/local/texlive/2014/texmf-dist/tex/latex/base/size10.clo))\r\n",
        "(/usr/local/texlive/2014/texmf-dist/tex/latex/graphics/graphicx.sty\r\n",
        "(/usr/local/texlive/2014/texmf-dist/tex/latex/graphics/keyval.sty)\r\n",
        "(/usr/local/texlive/2014/texmf-dist/tex/latex/graphics/graphics.sty\r\n",
        "(/usr/local/texlive/2014/texmf-dist/tex/latex/graphics/trig.sty)\r\n",
        "(/usr/local/texlive/2014/texmf-dist/tex/latex/latexconfig/graphics.cfg)\r\n",
        "(/usr/local/texlive/2014/texmf-dist/tex/latex/pdftex-def/pdftex.def\r\n",
        "(/usr/local/texlive/2014/texmf-dist/tex/generic/oberdiek/infwarerr.sty)\r\n",
        "(/usr/local/texlive/2014/texmf-dist/tex/generic/oberdiek/ltxcmds.sty))))\r\n",
        "(/usr/local/texlive/2014/texmf-dist/tex/latex/adjustbox/adjustbox.sty\r\n",
        "(/usr/local/texlive/2014/texmf-dist/tex/latex/xkeyval/xkeyval.sty\r\n",
        "(/usr/local/texlive/2014/texmf-dist/tex/generic/xkeyval/xkeyval.tex\r\n",
        "(/usr/local/texlive/2014/texmf-dist/tex/generic/xkeyval/xkvutils.tex)))\r\n",
        "(/usr/local/texlive/2014/texmf-dist/tex/latex/adjustbox/adjcalc.sty)\r\n",
        "(/usr/local/texlive/2014/texmf-dist/tex/latex/adjustbox/trimclip.sty\r\n",
        "(/usr/local/texlive/2014/texmf-dist/tex/latex/collectbox/collectbox.sty)\r\n",
        "(/usr/local/texlive/2014/texmf-dist/tex/latex/adjustbox/tc-pdftex.def))\r\n",
        "(/usr/local/texlive/2014/texmf-dist/tex/latex/ifoddpage/ifoddpage.sty)\r\n",
        "(/usr/local/texlive/2014/texmf-dist/tex/latex/varwidth/varwidth.sty))\r\n",
        "(/usr/local/texlive/2014/texmf-dist/tex/latex/graphics/color.sty\r\n",
        "(/usr/local/texlive/2014/texmf-dist/tex/latex/latexconfig/color.cfg))\r\n",
        "(/usr/local/texlive/2014/texmf-dist/tex/latex/tools/enumerate.sty)\r\n",
        "(/usr/local/texlive/2014/texmf-dist/tex/latex/geometry/geometry.sty\r\n",
        "(/usr/local/texlive/2014/texmf-dist/tex/generic/oberdiek/ifpdf.sty)\r\n",
        "(/usr/local/texlive/2014/texmf-dist/tex/generic/oberdiek/ifvtex.sty)\r\n",
        "(/usr/local/texlive/2014/texmf-dist/tex/generic/ifxetex/ifxetex.sty))\r\n",
        "(/usr/local/texlive/2014/texmf-dist/tex/latex/amsmath/amsmath.sty\r\n",
        "For additional information on amsmath, use the `?' option.\r\n",
        "(/usr/local/texlive/2014/texmf-dist/tex/latex/amsmath/amstext.sty\r\n",
        "(/usr/local/texlive/2014/texmf-dist/tex/latex/amsmath/amsgen.sty))\r\n",
        "(/usr/local/texlive/2014/texmf-dist/tex/latex/amsmath/amsbsy.sty)\r\n",
        "(/usr/local/texlive/2014/texmf-dist/tex/latex/amsmath/amsopn.sty))\r\n",
        "(/usr/local/texlive/2014/texmf-dist/tex/latex/amsfonts/amssymb.sty\r\n",
        "(/usr/local/texlive/2014/texmf-dist/tex/latex/amsfonts/amsfonts.sty))\r\n",
        "(/usr/local/texlive/2014/texmf-dist/tex/latex/ucs/ucs.sty\r\n",
        "(/usr/local/texlive/2014/texmf-dist/tex/latex/ucs/data/uni-global.def))\r\n",
        "(/usr/local/texlive/2014/texmf-dist/tex/latex/base/inputenc.sty\r\n",
        "(/usr/local/texlive/2014/texmf-dist/tex/latex/ucs/utf8x.def))\r\n",
        "(/usr/local/texlive/2014/texmf-dist/tex/latex/fancyvrb/fancyvrb.sty\r\n",
        "Style option: `fancyvrb' v2.7a, with DG/SPQR fixes, and firstline=lastline fix \r\n",
        "<2008/02/07> (tvz))\r\n",
        "(/usr/local/texlive/2014/texmf-dist/tex/latex/oberdiek/grffile.sty\r\n",
        "(/usr/local/texlive/2014/texmf-dist/tex/latex/oberdiek/kvoptions.sty\r\n",
        "(/usr/local/texlive/2014/texmf-dist/tex/generic/oberdiek/kvsetkeys.sty\r\n",
        "(/usr/local/texlive/2014/texmf-dist/tex/generic/oberdiek/etexcmds.sty\r\n",
        "(/usr/local/texlive/2014/texmf-dist/tex/generic/oberdiek/ifluatex.sty))))\r\n",
        "(/usr/local/texlive/2014/texmf-dist/tex/generic/oberdiek/pdftexcmds.sty))\r\n",
        "(/usr/local/texlive/2014/texmf-dist/tex/latex/hyperref/hyperref.sty\r\n",
        "(/usr/local/texlive/2014/texmf-dist/tex/generic/oberdiek/hobsub-hyperref.sty\r\n",
        "(/usr/local/texlive/2014/texmf-dist/tex/generic/oberdiek/hobsub-generic.sty))\r\n",
        "(/usr/local/texlive/2014/texmf-dist/tex/latex/oberdiek/auxhook.sty)\r\n",
        "(/usr/local/texlive/2014/texmf-dist/tex/latex/hyperref/pd1enc.def)\r\n",
        "(/usr/local/texlive/2014/texmf-dist/tex/latex/latexconfig/hyperref.cfg)\r\n",
        "(/usr/local/texlive/2014/texmf-dist/tex/latex/url/url.sty))\r\n",
        "\r\n",
        "Package hyperref Message: Driver (autodetected): hpdftex.\r\n",
        "\r\n",
        "(/usr/local/texlive/2014/texmf-dist/tex/latex/hyperref/hpdftex.def\r\n",
        "(/usr/local/texlive/2014/texmf-dist/tex/latex/oberdiek/rerunfilecheck.sty))\r\n",
        "(/usr/local/texlive/2014/texmf-dist/tex/latex/tools/longtable.sty)\r\n",
        "(/usr/local/texlive/2014/texmf-dist/tex/latex/booktabs/booktabs.sty)\r\n",
        "No file PyATL-IPythonNotebooks.aux.\r\n",
        "(/usr/local/texlive/2014/texmf-dist/tex/context/base/supp-pdf.mkii\r\n",
        "[Loading MPS to PDF converter (version 2006.09.02).]\r\n",
        ") (/usr/local/texlive/2014/texmf-dist/tex/latex/oberdiek/epstopdf-base.sty\r\n",
        "(/usr/local/texlive/2014/texmf-dist/tex/latex/oberdiek/grfext.sty)\r\n",
        "(/usr/local/texlive/2014/texmf-dist/tex/latex/latexconfig/epstopdf-sys.cfg))\r\n",
        "*geometry* driver: auto-detecting\r\n",
        "*geometry* detected driver: pdftex\r\n",
        "\r\n",
        "Package geometry Warning: The marginal notes overrun the paper.\r\n",
        "     Add 3.73001pt and more to the right margin.\r\n",
        "\r\n",
        "*geometry* verbose mode - [ preamble ] result:\r\n",
        "* driver: pdftex\r\n",
        "* paper: <default>\r\n",
        "* layout: <same size as paper>\r\n",
        "* layoutoffset:(h,v)=(0.0pt,0.0pt)\r\n",
        "* modes: \r\n",
        "* h-part:(L,W,R)=(72.26999pt, 469.75502pt, 72.26999pt)\r\n",
        "* v-part:(T,H,B)=(72.26999pt, 650.43001pt, 72.26999pt)\r\n",
        "* \\paperwidth=614.295pt\r\n",
        "* \\paperheight=794.96999pt\r\n",
        "* \\textwidth=469.75502pt\r\n",
        "* \\textheight=650.43001pt\r\n",
        "* \\oddsidemargin=0.0pt\r\n",
        "* \\evensidemargin=0.0pt\r\n",
        "* \\topmargin=-37.0pt\r\n",
        "* \\headheight=12.0pt\r\n",
        "* \\headsep=25.0pt\r\n",
        "* \\topskip=10.0pt\r\n",
        "* \\footskip=30.0pt\r\n",
        "* \\marginparwidth=65.0pt\r\n",
        "* \\marginparsep=11.0pt\r\n",
        "* \\columnsep=10.0pt\r\n",
        "* \\skip\\footins=9.0pt plus 4.0pt minus 2.0pt\r\n",
        "* \\hoffset=0.0pt\r\n",
        "* \\voffset=0.0pt\r\n",
        "* \\mag=1000\r\n",
        "* \\@twocolumnfalse\r\n",
        "* \\@twosidefalse\r\n",
        "* \\@mparswitchfalse\r\n",
        "* \\@reversemarginfalse\r\n",
        "* (1in=72.27pt=25.4mm, 1cm=28.453pt)\r\n",
        "\r\n",
        "(/usr/local/texlive/2014/texmf-dist/tex/latex/ucs/ucsencs.def)\r\n",
        "(/usr/local/texlive/2014/texmf-dist/tex/latex/hyperref/nameref.sty\r\n",
        "(/usr/local/texlive/2014/texmf-dist/tex/generic/oberdiek/gettitlestring.sty))\r\n",
        "(/usr/local/texlive/2014/texmf-dist/tex/latex/amsfonts/umsa.fd)\r\n",
        "(/usr/local/texlive/2014/texmf-dist/tex/latex/amsfonts/umsb.fd)\r\n",
        "\r\n",
        "LaTeX Warning: No \\author given.\r\n",
        "\r\n",
        "! You can't use `macro parameter character #' in horizontal mode.\r\n",
        "l.257 #\r\n",
        "       Update environment variables in profile per\r\n",
        "? \r\n",
        "! Emergency stop.\r\n",
        "l.257 #\r\n",
        "       Update environment variables in profile per\r\n",
        "!  ==> Fatal error occurred, no output PDF file produced!\r\n",
        "Transcript written on PyATL-IPythonNotebooks.log.\r\n",
        "\r\n",
        "[NbConvertApp] Removing temporary LaTeX files\r\n"
       ]
      }
     ],
     "prompt_number": 2
    },
    {
     "cell_type": "heading",
     "level": 1,
     "metadata": {
      "internals": {
       "frag_helper": "fragment_end",
       "frag_number": 24
      },
      "slideshow": {
       "slide_type": "subslide"
      }
     },
     "source": [
      "RMagic"
     ]
    },
    {
     "cell_type": "markdown",
     "metadata": {
      "internals": {
       "frag_helper": "fragment_end",
       "frag_number": 24
      },
      "slideshow": {
       "slide_type": "-"
      }
     },
     "source": [
      "http://www.randalolson.com/2013/01/14/filling-in-pythons-gaps-in-statistics-packages-with-rmagic/"
     ]
    },
    {
     "cell_type": "code",
     "collapsed": false,
     "input": [
      "import pandas as pd, numpy as np"
     ],
     "language": "python",
     "metadata": {
      "internals": {
       "frag_helper": "fragment_end",
       "frag_number": 24
      },
      "slideshow": {
       "slide_type": "-"
      }
     },
     "outputs": [],
     "prompt_number": 15
    },
    {
     "cell_type": "code",
     "collapsed": false,
     "input": [
      "%load_ext rpy2.ipython"
     ],
     "language": "python",
     "metadata": {
      "internals": {
       "frag_helper": "fragment_end",
       "frag_number": 24
      },
      "slideshow": {
       "slide_type": "-"
      }
     },
     "outputs": [],
     "prompt_number": 7
    },
    {
     "cell_type": "code",
     "collapsed": false,
     "input": [
      "dat=pd.DataFrame(np.random.randn(10,3), columns=['x','y','z']);\n",
      "dat"
     ],
     "language": "python",
     "metadata": {
      "internals": {
       "frag_helper": "fragment_end",
       "frag_number": 24
      },
      "slideshow": {
       "slide_type": "-"
      }
     },
     "outputs": [
      {
       "html": [
        "<div style=\"max-height:1000px;max-width:1500px;overflow:auto;\">\n",
        "<table border=\"1\" class=\"dataframe\">\n",
        "  <thead>\n",
        "    <tr style=\"text-align: right;\">\n",
        "      <th></th>\n",
        "      <th>x</th>\n",
        "      <th>y</th>\n",
        "      <th>z</th>\n",
        "    </tr>\n",
        "  </thead>\n",
        "  <tbody>\n",
        "    <tr>\n",
        "      <th>0</th>\n",
        "      <td>-0.987899</td>\n",
        "      <td> 0.501127</td>\n",
        "      <td> 0.057105</td>\n",
        "    </tr>\n",
        "    <tr>\n",
        "      <th>1</th>\n",
        "      <td> 1.235413</td>\n",
        "      <td> 0.301235</td>\n",
        "      <td>-0.094626</td>\n",
        "    </tr>\n",
        "    <tr>\n",
        "      <th>2</th>\n",
        "      <td>-0.519798</td>\n",
        "      <td> 1.624250</td>\n",
        "      <td> 0.343331</td>\n",
        "    </tr>\n",
        "    <tr>\n",
        "      <th>3</th>\n",
        "      <td> 0.811551</td>\n",
        "      <td>-0.746103</td>\n",
        "      <td> 0.424743</td>\n",
        "    </tr>\n",
        "    <tr>\n",
        "      <th>4</th>\n",
        "      <td> 0.193441</td>\n",
        "      <td>-0.494583</td>\n",
        "      <td>-0.569107</td>\n",
        "    </tr>\n",
        "    <tr>\n",
        "      <th>5</th>\n",
        "      <td> 0.574067</td>\n",
        "      <td> 0.558853</td>\n",
        "      <td> 0.818417</td>\n",
        "    </tr>\n",
        "    <tr>\n",
        "      <th>6</th>\n",
        "      <td> 0.648389</td>\n",
        "      <td> 1.014811</td>\n",
        "      <td>-0.805937</td>\n",
        "    </tr>\n",
        "    <tr>\n",
        "      <th>7</th>\n",
        "      <td>-0.301671</td>\n",
        "      <td> 0.680890</td>\n",
        "      <td> 0.315696</td>\n",
        "    </tr>\n",
        "    <tr>\n",
        "      <th>8</th>\n",
        "      <td>-1.364844</td>\n",
        "      <td> 2.218030</td>\n",
        "      <td>-0.066565</td>\n",
        "    </tr>\n",
        "    <tr>\n",
        "      <th>9</th>\n",
        "      <td>-1.060867</td>\n",
        "      <td>-0.880825</td>\n",
        "      <td> 0.087885</td>\n",
        "    </tr>\n",
        "  </tbody>\n",
        "</table>\n",
        "</div>"
       ],
       "metadata": {},
       "output_type": "pyout",
       "prompt_number": 19,
       "text": [
        "          x         y         z\n",
        "0 -0.987899  0.501127  0.057105\n",
        "1  1.235413  0.301235 -0.094626\n",
        "2 -0.519798  1.624250  0.343331\n",
        "3  0.811551 -0.746103  0.424743\n",
        "4  0.193441 -0.494583 -0.569107\n",
        "5  0.574067  0.558853  0.818417\n",
        "6  0.648389  1.014811 -0.805937\n",
        "7 -0.301671  0.680890  0.315696\n",
        "8 -1.364844  2.218030 -0.066565\n",
        "9 -1.060867 -0.880825  0.087885"
       ]
      }
     ],
     "prompt_number": 19
    },
    {
     "cell_type": "code",
     "collapsed": false,
     "input": [
      "%R -i dat print(summary(dat))"
     ],
     "language": "python",
     "metadata": {
      "internals": {
       "frag_helper": "fragment_end",
       "frag_number": 24
      },
      "slideshow": {
       "slide_type": "-"
      }
     },
     "outputs": [
      {
       "metadata": {},
       "output_type": "display_data",
       "text": [
        "       x                  y                 z           \n",
        " Min.   :-1.36484   Min.   :-0.8808   Min.   :-0.80594  \n",
        " 1st Qu.:-0.87087   1st Qu.:-0.2956   1st Qu.:-0.08761  \n",
        " Median :-0.05412   Median : 0.5300   Median : 0.07249  \n",
        " Mean   :-0.07722   Mean   : 0.4778   Mean   : 0.05109  \n",
        " 3rd Qu.: 0.62981   3rd Qu.: 0.9313   3rd Qu.: 0.33642  \n",
        " Max.   : 1.23541   Max.   : 2.2180   Max.   : 0.81842  \n"
       ]
      }
     ],
     "prompt_number": 20
    },
    {
     "cell_type": "code",
     "collapsed": false,
     "input": [
      "%R?"
     ],
     "language": "python",
     "metadata": {
      "internals": {
       "frag_helper": "fragment_end",
       "frag_number": 24,
       "slide_helper": "subslide_end"
      },
      "slide_helper": "slide_end",
      "slideshow": {
       "slide_type": "-"
      }
     },
     "outputs": [],
     "prompt_number": 25
    },
    {
     "cell_type": "heading",
     "level": 1,
     "metadata": {
      "internals": {
       "frag_helper": "fragment_end",
       "frag_number": 24,
       "slide_type": "subslide"
      },
      "slideshow": {
       "slide_type": "slide"
      }
     },
     "source": [
      "Slideshow stuff - cell toolbar"
     ]
    },
    {
     "cell_type": "markdown",
     "metadata": {
      "internals": {
       "frag_helper": "fragment_end",
       "frag_number": 24,
       "slide_helper": "subslide_end"
      },
      "slide_helper": "slide_end",
      "slideshow": {
       "slide_type": "-"
      }
     },
     "source": [
      "<i>Psst - Brian - close the presentation and show the toolbar</i>"
     ]
    }
   ],
   "metadata": {}
  }
 ]
}
